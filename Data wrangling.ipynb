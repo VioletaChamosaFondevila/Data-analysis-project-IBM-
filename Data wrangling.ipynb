{
 "cells": [
  {
   "cell_type": "markdown",
   "metadata": {},
   "source": [
    "## Determine the number of jobs currently open for various technologies and for various locations"
   ]
  },
  {
   "cell_type": "code",
   "execution_count": 1,
   "metadata": {},
   "outputs": [],
   "source": [
    "import pandas as pd\n",
    "import numpy as np\n"
   ]
  },
  {
   "cell_type": "code",
   "execution_count": 2,
   "metadata": {},
   "outputs": [],
   "source": [
    "df_url = \"https://cf-courses-data.s3.us.cloud-object-storage.appdomain.cloud/IBM-DA0321EN-SkillsNetwork/LargeData/m1_survey_data.csv\""
   ]
  },
  {
   "cell_type": "code",
   "execution_count": 3,
   "metadata": {},
   "outputs": [],
   "source": [
    "df = pd.read_csv(df_url)"
   ]
  },
  {
   "cell_type": "markdown",
   "metadata": {},
   "source": [
    "#### DUPICATED ENTRIES"
   ]
  },
  {
   "cell_type": "code",
   "execution_count": 4,
   "metadata": {},
   "outputs": [
    {
     "data": {
      "text/plain": [
       "154"
      ]
     },
     "execution_count": 4,
     "metadata": {},
     "output_type": "execute_result"
    }
   ],
   "source": [
    "# Find out whether there is any duplicated row\n",
    "\n",
    "df.duplicated().sum()"
   ]
  },
  {
   "cell_type": "code",
   "execution_count": 5,
   "metadata": {},
   "outputs": [],
   "source": [
    "# drop them\n",
    "\n",
    "df.drop_duplicates(inplace=True)"
   ]
  },
  {
   "cell_type": "code",
   "execution_count": 17,
   "metadata": {},
   "outputs": [
    {
     "data": {
      "text/plain": [
       "0"
      ]
     },
     "execution_count": 17,
     "metadata": {},
     "output_type": "execute_result"
    }
   ],
   "source": [
    "df.Respondent.isnull().sum()"
   ]
  },
  {
   "cell_type": "markdown",
   "metadata": {},
   "source": [
    "#### MISSING VALUES"
   ]
  },
  {
   "cell_type": "code",
   "execution_count": 54,
   "metadata": {},
   "outputs": [
    {
     "name": "stdout",
     "output_type": "stream",
     "text": [
      "Column: OpenSource --> 81 null values. Type: object\n",
      "Column: Student --> 51 null values. Type: object\n",
      "Column: EdLevel --> 112 null values. Type: object\n",
      "Column: UndergradMajor --> 737 null values. Type: object\n",
      "Column: EduOther --> 164 null values. Type: object\n",
      "Column: OrgSize --> 96 null values. Type: object\n",
      "Column: DevType --> 65 null values. Type: object\n",
      "Column: YearsCode --> 9 null values. Type: object\n",
      "Column: Age1stCode --> 13 null values. Type: object\n",
      "Column: YearsCodePro --> 16 null values. Type: object\n",
      "Column: JobSat --> 1 null values. Type: object\n",
      "Column: MgrIdiot --> 493 null values. Type: object\n",
      "Column: MgrMoney --> 497 null values. Type: object\n",
      "Column: MgrWant --> 493 null values. Type: object\n",
      "Column: LastInt --> 413 null values. Type: object\n",
      "Column: FizzBuzz --> 37 null values. Type: object\n",
      "Column: JobFactors --> 3 null values. Type: object\n",
      "Column: ResumeUpdate --> 39 null values. Type: object\n",
      "Column: CompTotal --> 809 null values. Type: float64\n",
      "Column: CompFreq --> 206 null values. Type: object\n",
      "Column: ConvertedComp --> 816 null values. Type: float64\n",
      "Column: WorkWeekHrs --> 122 null values. Type: float64\n",
      "Column: WorkPlan --> 121 null values. Type: object\n",
      "Column: WorkChallenge --> 164 null values. Type: object\n",
      "Column: WorkRemote --> 8 null values. Type: object\n",
      "Column: WorkLoc --> 32 null values. Type: object\n",
      "Column: ImpSyn --> 5 null values. Type: object\n",
      "Column: CodeRev --> 1 null values. Type: object\n",
      "Column: CodeRevHrs --> 2426 null values. Type: float64\n",
      "Column: UnitTests --> 29 null values. Type: object\n",
      "Column: PurchaseHow --> 196 null values. Type: object\n",
      "Column: PurchaseWhat --> 38 null values. Type: object\n",
      "Column: LanguageWorkedWith --> 11 null values. Type: object\n",
      "Column: LanguageDesireNextYear --> 134 null values. Type: object\n",
      "Column: DatabaseWorkedWith --> 453 null values. Type: object\n",
      "Column: DatabaseDesireNextYear --> 1042 null values. Type: object\n",
      "Column: PlatformWorkedWith --> 411 null values. Type: object\n",
      "Column: PlatformDesireNextYear --> 544 null values. Type: object\n",
      "Column: WebFrameWorkedWith --> 1393 null values. Type: object\n",
      "Column: WebFrameDesireNextYear --> 1617 null values. Type: object\n",
      "Column: MiscTechWorkedWith --> 2182 null values. Type: object\n",
      "Column: MiscTechDesireNextYear --> 1455 null values. Type: object\n",
      "Column: DevEnviron --> 29 null values. Type: object\n",
      "Column: OpSys --> 34 null values. Type: object\n",
      "Column: Containers --> 82 null values. Type: object\n",
      "Column: BlockchainOrg --> 2322 null values. Type: object\n",
      "Column: BlockchainIs --> 2610 null values. Type: object\n",
      "Column: BetterLife --> 98 null values. Type: object\n",
      "Column: ITperson --> 35 null values. Type: object\n",
      "Column: OffOn --> 38 null values. Type: object\n",
      "Column: SocialMedia --> 293 null values. Type: object\n",
      "Column: Extraversion --> 20 null values. Type: object\n",
      "Column: ScreenName --> 507 null values. Type: object\n",
      "Column: SOVisit1st --> 325 null values. Type: object\n",
      "Column: SOVisitFreq --> 5 null values. Type: object\n",
      "Column: SOVisitTo --> 1 null values. Type: object\n",
      "Column: SOFindAnswer --> 3 null values. Type: object\n",
      "Column: SOTimeSaved --> 50 null values. Type: object\n",
      "Column: SOHowMuchTime --> 1917 null values. Type: object\n",
      "Column: SOAccount --> 1 null values. Type: object\n",
      "Column: SOPartFreq --> 1128 null values. Type: object\n",
      "Column: SOJobs --> 6 null values. Type: object\n",
      "Column: EntTeams --> 5 null values. Type: object\n",
      "Column: WelcomeChange --> 85 null values. Type: object\n",
      "Column: SONewContent --> 1965 null values. Type: object\n",
      "Column: Age --> 287 null values. Type: float64\n",
      "Column: Gender --> 73 null values. Type: object\n",
      "Column: Trans --> 123 null values. Type: object\n",
      "Column: Sexuality --> 542 null values. Type: object\n",
      "Column: Ethnicity --> 675 null values. Type: object\n",
      "Column: Dependents --> 140 null values. Type: object\n",
      "Column: SurveyLength --> 19 null values. Type: object\n",
      "Column: SurveyEase --> 14 null values. Type: object\n"
     ]
    }
   ],
   "source": [
    "columns = df.columns.tolist()\n",
    "\n",
    "colums_null = []\n",
    "\n",
    "for col in columns:\n",
    "    \n",
    "    if df[col].isnull().sum() != 0:\n",
    "        print( 'Column: {} --> {} null values. Type: {}'.format(col, df[col].isnull().sum(), df[col].dtype))\n",
    "        colums_null.append(col)\n",
    "        \n"
   ]
  },
  {
   "cell_type": "markdown",
   "metadata": {},
   "source": [
    "### Lets first check the ones that are numeric values"
   ]
  },
  {
   "cell_type": "markdown",
   "metadata": {},
   "source": [
    "- 'YearsCode'"
   ]
  },
  {
   "cell_type": "code",
   "execution_count": 65,
   "metadata": {},
   "outputs": [
    {
     "data": {
      "text/plain": [
       "array(['3', '12', '17', '10', '5', '14', '8', '35', '2', '4', '30', '9',\n",
       "       '26', '15', '7', '20', '13', '1', '6', '28', '11', '33', '41',\n",
       "       '16', '24', '23', '27', '18', '22', '19', '21', '25', '36', 0,\n",
       "       '32', '34', '31', '39', '29', '40', '44', '37', '45', '43', '38',\n",
       "       10.0, '47', '42', '50', '49', '46', '48'], dtype=object)"
      ]
     },
     "execution_count": 65,
     "metadata": {},
     "output_type": "execute_result"
    }
   ],
   "source": [
    "df.YearsCode.unique()"
   ]
  },
  {
   "cell_type": "code",
   "execution_count": 56,
   "metadata": {},
   "outputs": [],
   "source": [
    "#Lets set the ones that are less than a year as 0\n",
    "\n",
    "df['YearsCode'].replace('Less than 1 year', 0, inplace=True)"
   ]
  },
  {
   "cell_type": "code",
   "execution_count": 64,
   "metadata": {},
   "outputs": [],
   "source": [
    "# Lets fill na  values with the median\n",
    "\n",
    "df['YearsCode'].fillna(int(df['YearsCode'].median()), inplace=True)"
   ]
  },
  {
   "cell_type": "markdown",
   "metadata": {},
   "source": [
    "- 'Age1stCode'"
   ]
  },
  {
   "cell_type": "code",
   "execution_count": 72,
   "metadata": {},
   "outputs": [
    {
     "data": {
      "text/plain": [
       "array(['16', '11', '17', '18', '13', '12', '19', '21', '8', '20', '14',\n",
       "       '6', '15', '10', '29', '9', '23', '22', '30', '7', '27', '24', 4,\n",
       "       '26', '25', 15, '38', '28', '5', '31', '36', '34', '32', '33',\n",
       "       '35', '40', '37', '43', '39', '42', '45'], dtype=object)"
      ]
     },
     "execution_count": 72,
     "metadata": {},
     "output_type": "execute_result"
    }
   ],
   "source": [
    "df.Age1stCode.unique()"
   ]
  },
  {
   "cell_type": "code",
   "execution_count": 69,
   "metadata": {},
   "outputs": [],
   "source": [
    "# Change 'less than 5' to 4\n",
    "\n",
    "df['Age1stCode'].replace('Younger than 5 years', 4, inplace=True)"
   ]
  },
  {
   "cell_type": "code",
   "execution_count": 71,
   "metadata": {},
   "outputs": [],
   "source": [
    "# Replace the null value for the median\n",
    "\n",
    "df['Age1stCode'].fillna(int(df['Age1stCode'].median()), inplace=True)"
   ]
  },
  {
   "cell_type": "markdown",
   "metadata": {},
   "source": [
    "- 'YearsCodePro'"
   ]
  },
  {
   "cell_type": "code",
   "execution_count": 77,
   "metadata": {},
   "outputs": [
    {
     "data": {
      "text/plain": [
       "array([0, '4', '8', '3', '2', '13', '18', '1', '22', '23', '19', '10',\n",
       "       '9', '7', '5', '6', '20', '12', '35', '11', '15', '16', '21', '29',\n",
       "       '14', '26', '30', '25', '17', 5, '28', '37', '40', '33', '24',\n",
       "       '32', '34', '27', '39', '31', '38', '44', '43', '36', '48', '42',\n",
       "       '45', '47'], dtype=object)"
      ]
     },
     "execution_count": 77,
     "metadata": {},
     "output_type": "execute_result"
    }
   ],
   "source": [
    "df.YearsCodePro.unique()"
   ]
  },
  {
   "cell_type": "code",
   "execution_count": 74,
   "metadata": {},
   "outputs": [],
   "source": [
    "# Again change less than a year for 0\n",
    "\n",
    "df['YearsCodePro'].replace('Less than 1 year', 0, inplace=True)"
   ]
  },
  {
   "cell_type": "code",
   "execution_count": 76,
   "metadata": {},
   "outputs": [],
   "source": [
    "# fill null values \n",
    "\n",
    "df['YearsCodePro'].fillna(int(df['YearsCodePro'].median()), inplace=True)"
   ]
  },
  {
   "cell_type": "markdown",
   "metadata": {},
   "source": [
    "- 'WorkWeekHrs'"
   ]
  },
  {
   "cell_type": "code",
   "execution_count": 79,
   "metadata": {},
   "outputs": [],
   "source": [
    "df.WorkWeekHrs.fillna(df['WorkWeekHrs'].median(), inplace=True)"
   ]
  },
  {
   "cell_type": "markdown",
   "metadata": {},
   "source": [
    "- 'CodeRevHours'"
   ]
  },
  {
   "cell_type": "code",
   "execution_count": 81,
   "metadata": {},
   "outputs": [],
   "source": [
    "# When the value of this variable is null it means that the person did not spend time reviewing code so it shoul be replace by 0\n",
    "\n",
    "df.CodeRevHrs.fillna(0, inplace=True)"
   ]
  },
  {
   "cell_type": "markdown",
   "metadata": {},
   "source": [
    "- 'Age'"
   ]
  },
  {
   "cell_type": "code",
   "execution_count": 84,
   "metadata": {},
   "outputs": [],
   "source": [
    "df.Age.fillna(df.Age.median(), inplace=True)"
   ]
  },
  {
   "cell_type": "code",
   "execution_count": null,
   "metadata": {},
   "outputs": [],
   "source": []
  },
  {
   "cell_type": "code",
   "execution_count": null,
   "metadata": {},
   "outputs": [],
   "source": []
  },
  {
   "cell_type": "code",
   "execution_count": null,
   "metadata": {},
   "outputs": [],
   "source": []
  },
  {
   "cell_type": "code",
   "execution_count": 52,
   "metadata": {},
   "outputs": [
    {
     "data": {
      "text/plain": [
       "dtype('float64')"
      ]
     },
     "execution_count": 52,
     "metadata": {},
     "output_type": "execute_result"
    }
   ],
   "source": [
    "for col in colums_null:\n",
    "    \n",
    "    if df[col].dtype == :\n",
    "        print( 'Column: {} --> {} null values. Type: {}'.format(col, df[col].isnull().sum(), df[col].dtype))\n",
    "        "
   ]
  },
  {
   "cell_type": "code",
   "execution_count": null,
   "metadata": {},
   "outputs": [],
   "source": []
  }
 ],
 "metadata": {
  "kernelspec": {
   "display_name": "Python 3",
   "language": "python",
   "name": "python3"
  },
  "language_info": {
   "codemirror_mode": {
    "name": "ipython",
    "version": 3
   },
   "file_extension": ".py",
   "mimetype": "text/x-python",
   "name": "python",
   "nbconvert_exporter": "python",
   "pygments_lexer": "ipython3",
   "version": "3.10.1"
  }
 },
 "nbformat": 4,
 "nbformat_minor": 2
}
